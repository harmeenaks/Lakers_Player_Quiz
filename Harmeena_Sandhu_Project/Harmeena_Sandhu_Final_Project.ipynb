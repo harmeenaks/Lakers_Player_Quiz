{
 "cells": [
  {
   "cell_type": "markdown",
   "metadata": {},
   "source": [
    "# How Well Do You Know The Basketball Player? "
   ]
  },
  {
   "cell_type": "markdown",
   "metadata": {},
   "source": [
    "In this project, you will be taking a quiz. Once you load the quiz, a random basketball player (either Kobe Bryant, Lebron James, Anthony Davis, or Kyle Kuzma) will be selected, for which the quiz will be about. Then, you will follow some instructions to indicate that you are indeed ready for the quiz. If you make a mistake with those instructions / are not ready, an audio recording will play with words that will encourage you to start again! \n",
    "\n",
    "From there, you will have to correctly answer questions about each of them to advance in the quiz. If you complete the quiz, you will be rewarded by viewing an encouraging  note indicating that you indeed know the selected basketball player. If you do not reach the end, however far you get, you will be greeted with a picture of the player, as well as a note to indicate that you have lost.You can rerun the program if you want to take the quiz with a different player (or the same player). Again, whom you are quizzed on will be randomly selected! )"
   ]
  },
  {
   "cell_type": "code",
   "execution_count": null,
   "metadata": {},
   "outputs": [],
   "source": [
    "import my_module.module as mod\n",
    "import random\n",
    "from IPython.display import Audio \n",
    "from IPython.display import Image\n",
    "import pytest"
   ]
  },
  {
   "cell_type": "code",
   "execution_count": null,
   "metadata": {},
   "outputs": [],
   "source": [
    "mod.the_quiz()\n"
   ]
  },
  {
   "cell_type": "code",
   "execution_count": null,
   "metadata": {},
   "outputs": [],
   "source": [
    "!pytest "
   ]
  },
  {
   "cell_type": "markdown",
   "metadata": {},
   "source": [
    " ### Extra Credit:\n",
    " \n",
    " In this project, I used a total of five functions to create this quiz. I think the premis of the quiz, in that the player you are given was chosen at random, is quite unique, as it required me to use indexing and a for loop within the the_quiz() call, as well as the creation of separate dictionaries that needed to be parsed through. Along with that, I explored the Audio module, where I recorded myself and autoplayed a random encouraging note, as well as the Image module, which allowed images of the players to appear upon losing. In general, I would say I am a 5/10 in terms of my coding skills, as I have taken upper div cogs classes that have used Python, but never a thorough Python course. "
   ]
  }
 ],
 "metadata": {
  "kernelspec": {
   "display_name": "Python 3",
   "language": "python",
   "name": "python3"
  },
  "language_info": {
   "codemirror_mode": {
    "name": "ipython",
    "version": 3
   },
   "file_extension": ".py",
   "mimetype": "text/x-python",
   "name": "python",
   "nbconvert_exporter": "python",
   "pygments_lexer": "ipython3",
   "version": "3.8.6"
  }
 },
 "nbformat": 4,
 "nbformat_minor": 4
}
